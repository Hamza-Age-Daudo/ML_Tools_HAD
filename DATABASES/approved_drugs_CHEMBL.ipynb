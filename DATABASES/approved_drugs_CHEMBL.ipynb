{
  "nbformat": 4,
  "nbformat_minor": 0,
  "metadata": {
    "colab": {
      "provenance": []
    },
    "kernelspec": {
      "name": "python3",
      "display_name": "Python 3"
    },
    "language_info": {
      "name": "python"
    }
  },
  "cells": [
    {
      "cell_type": "markdown",
      "source": [
        "### Automated Retrieval and Saving of Approved Drugs Data from ChEMBL API"
      ],
      "metadata": {
        "id": "iglDAP4RMc6U"
      }
    },
    {
      "cell_type": "code",
      "execution_count": 5,
      "metadata": {
        "colab": {
          "base_uri": "https://localhost:8080/"
        },
        "id": "vbqTMTeQIdE6",
        "outputId": "59a60013-9f0d-4f42-ecea-b121885c1816"
      },
      "outputs": [
        {
          "output_type": "stream",
          "name": "stdout",
          "text": [
            "Fetching offset 0...\n",
            "Fetching offset 1000...\n",
            "Fetching offset 2000...\n",
            "Fetching offset 3000...\n",
            "Fetching offset 4000...\n",
            "✅ 3594 molecules saved to 'approved_drugs.csv'\n"
          ]
        }
      ],
      "source": [
        "import requests\n",
        "import csv\n",
        "import time\n",
        "\n",
        "def get_all_approved_drugs():\n",
        "    base_url = \"https://www.ebi.ac.uk/chembl/api/data/molecule.json\"  # ChEMBL API endpoint for molecules\n",
        "    query_params = {\n",
        "        \"max_phase\": 4,    # Filter: only molecules approved up to clinical phase 4 (approved drugs)\n",
        "        \"limit\": 1000,     # Maximum records per API request (page size)\n",
        "        \"offset\": 0        # Starting index for pagination\n",
        "    }\n",
        "\n",
        "    all_drugs = []  # List to store all approved drug data\n",
        "\n",
        "    while True:\n",
        "        print(f\"Fetching offset {query_params['offset']}...\")  # Log current page offset\n",
        "        response = requests.get(base_url, params=query_params)  # API GET request\n",
        "        if response.status_code != 200:                         # Check for HTTP errors\n",
        "            print(\"Request error:\", response.status_code)\n",
        "            break\n",
        "\n",
        "        data = response.json()                                  # Parse JSON response\n",
        "        molecules = data.get(\"molecules\", [])                   # Get list of molecules\n",
        "\n",
        "        for mol in molecules:                                   # Loop over molecules on current page\n",
        "            structures = mol.get(\"molecule_structures\")        # Get structure info\n",
        "            if structures and \"canonical_smiles\" in structures:  # Check if SMILES exists\n",
        "                all_drugs.append({                              # Append selected data to list\n",
        "                    \"name\": mol.get(\"pref_name\"),\n",
        "                    \"chembl_id\": mol.get(\"molecule_chembl_id\"),\n",
        "                    \"smiles\": structures[\"canonical_smiles\"]\n",
        "                })\n",
        "\n",
        "        # Check if more pages exist; if so, update offset for next page\n",
        "        if data[\"page_meta\"][\"next\"]:\n",
        "            query_params[\"offset\"] += query_params[\"limit\"]\n",
        "            time.sleep(0.2)  # Sleep to respect ChEMBL API rate limits\n",
        "        else:\n",
        "            break\n",
        "\n",
        "    return all_drugs\n",
        "\n",
        "\n",
        "# Function to save the collected drug data to CSV file\n",
        "def save_to_csv(drugs, filename=\"approved_drugs.csv\"):\n",
        "    with open(filename, mode=\"w\", newline='', encoding=\"utf-8\") as file:\n",
        "        writer = csv.DictWriter(file, fieldnames=[\"name\", \"chembl_id\", \"smiles\"])\n",
        "        writer.writeheader()\n",
        "        writer.writerows(drugs)\n",
        "    print(f\"✅ {len(drugs)} molecules saved to '{filename}'\")\n",
        "\n",
        "# Execute the data retrieval and save\n",
        "approved_drugs = get_all_approved_drugs()\n",
        "save_to_csv(approved_drugs)"
      ]
    }
  ]
}