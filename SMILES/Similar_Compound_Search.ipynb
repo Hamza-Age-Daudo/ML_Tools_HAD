{
  "cells": [
    {
      "cell_type": "code",
      "execution_count": 1,
      "id": "fb72345f-3ffd-4e5a-b46d-239379a22bbc",
      "metadata": {
        "colab": {
          "base_uri": "https://localhost:8080/"
        },
        "id": "fb72345f-3ffd-4e5a-b46d-239379a22bbc",
        "outputId": "b6f73307-6b4b-4490-9ead-ff40c5042498"
      },
      "outputs": [
        {
          "output_type": "stream",
          "name": "stdout",
          "text": [
            "Collecting rdkit\n",
            "  Downloading rdkit-2025.3.3-cp311-cp311-manylinux_2_28_x86_64.whl.metadata (4.0 kB)\n",
            "Requirement already satisfied: numpy in /usr/local/lib/python3.11/dist-packages (from rdkit) (1.26.4)\n",
            "Requirement already satisfied: Pillow in /usr/local/lib/python3.11/dist-packages (from rdkit) (11.1.0)\n",
            "Downloading rdkit-2025.3.3-cp311-cp311-manylinux_2_28_x86_64.whl (34.9 MB)\n",
            "\u001b[2K   \u001b[90m━━━━━━━━━━━━━━━━━━━━━━━━━━━━━━━━━━━━━━━━\u001b[0m \u001b[32m34.9/34.9 MB\u001b[0m \u001b[31m21.6 MB/s\u001b[0m eta \u001b[36m0:00:00\u001b[0m\n",
            "\u001b[?25hInstalling collected packages: rdkit\n",
            "Successfully installed rdkit-2025.3.3\n"
          ]
        }
      ],
      "source": [
        "# Install the RDKit library (used for cheminformatics and molecule handling)\n",
        "!pip install rdkit\n"
      ]
    },
    {
      "cell_type": "markdown",
      "id": "825dcd4f-7abb-4353-ad66-b97ccdf88a30",
      "metadata": {
        "id": "825dcd4f-7abb-4353-ad66-b97ccdf88a30"
      },
      "source": [
        "We will need to import the required libraries to our space."
      ]
    },
    {
      "cell_type": "code",
      "execution_count": 3,
      "id": "6b61fe14-0830-4c32-a551-a83f40ccfc96",
      "metadata": {
        "id": "6b61fe14-0830-4c32-a551-a83f40ccfc96"
      },
      "outputs": [],
      "source": [
        "# Standard library imports\n",
        "import time                              # For timing and delays\n",
        "from pathlib import Path                 # For handling file system paths\n",
        "from urllib.parse import quote           # For URL encoding\n",
        "\n",
        "# IPython display utilities (for rich outputs in notebooks)\n",
        "from IPython.display import Markdown, Image\n",
        "\n",
        "# Third-party libraries\n",
        "import requests                          # For making HTTP requests\n",
        "import pandas as pd                      # For data manipulation and analysis\n",
        "\n",
        "# RDKit (cheminformatics toolkit)\n",
        "from rdkit import Chem                                  # Core RDKit module\n",
        "from rdkit.Chem import PandasTools                      # Utilities for integ\n"
      ]
    },
    {
      "cell_type": "markdown",
      "id": "c54c9543-64ab-47bc-a460-d4cd29365047",
      "metadata": {
        "id": "c54c9543-64ab-47bc-a460-d4cd29365047"
      },
      "source": [
        "# Fetching PubChem CID for the compound of interest"
      ]
    },
    {
      "cell_type": "code",
      "execution_count": 4,
      "id": "09a62bbb-3480-48b7-94fc-615043979338",
      "metadata": {
        "colab": {
          "base_uri": "https://localhost:8080/"
        },
        "id": "09a62bbb-3480-48b7-94fc-615043979338",
        "outputId": "d270104b-e671-4fe2-91d4-7c4efb4ceee4"
      },
      "outputs": [
        {
          "output_type": "stream",
          "name": "stdout",
          "text": [
            "PubChem CID for fluconazole is:\n",
            "3365\n"
          ]
        }
      ],
      "source": [
        "# Retrieve the PubChem CID (Compound ID) for a given compound name\n",
        "name = \"fluconazole\"\n",
        "\n",
        "# Construct the PubChem PUG REST API URL\n",
        "url = f\"https://pubchem.ncbi.nlm.nih.gov/rest/pug/compound/name/{name}/cids/JSON\"\n",
        "\n",
        "# Send a GET request to the PubChem API\n",
        "r = requests.get(url)\n",
        "r.raise_for_status()  # Raise an error if the request failed\n",
        "\n",
        "# Parse the JSON response\n",
        "response = r.json()\n",
        "\n",
        "# Extract the CID if available; otherwise, raise an error\n",
        "if \"IdentifierList\" in response:\n",
        "    cid = response[\"IdentifierList\"][\"CID\"][0]\n",
        "else:\n",
        "    raise ValueError(f\"Could not find matches for compound: {name}\")\n",
        "\n",
        "# Display the CID\n",
        "print(f\"PubChem CID for {name} is:\\n{cid}\")\n",
        "\n",
        "# NBVAL_CHECK_OUTPUT — used for output validation in some notebook testing environments\n"
      ]
    },
    {
      "cell_type": "markdown",
      "id": "2cd62ac7-a690-44d4-a0a7-abe6b75b8f37",
      "metadata": {
        "id": "2cd62ac7-a690-44d4-a0a7-abe6b75b8f37"
      },
      "source": [
        "# Extract molecular properties for a respective PubChem CID\n",
        "We extract interesting properties for a compound using PubChem CID, such as molecular weight, pKd, logP, etc. Here, we will search for the molecular weight for Olaparib. You are suggested to edit the script for a particular property, below, I am showing you only **Molecular weight**."
      ]
    },
    {
      "cell_type": "code",
      "execution_count": 5,
      "id": "bd604807-b0d3-446b-a50f-fa467b655388",
      "metadata": {
        "colab": {
          "base_uri": "https://localhost:8080/"
        },
        "id": "bd604807-b0d3-446b-a50f-fa467b655388",
        "outputId": "c72aeb92-3bc5-47c5-e257-35e6dbb8e007"
      },
      "outputs": [
        {
          "output_type": "stream",
          "name": "stdout",
          "text": [
            "Molecular weight for fluconazole is:\n",
            "306.27\n"
          ]
        }
      ],
      "source": [
        "# Retrieve the molecular weight for a compound using its PubChem CID\n",
        "# Example: CID 3365 corresponds to olaparib\n",
        "url = \"https://pubchem.ncbi.nlm.nih.gov/rest/pug/compound/cid/3365/property/MolecularWeight/JSON\"\n",
        "\n",
        "# Send a GET request to the PubChem API\n",
        "r = requests.get(url)\n",
        "r.raise_for_status()  # Raise an error if the request failed\n",
        "\n",
        "# Parse the JSON response\n",
        "response = r.json()\n",
        "\n",
        "# Extract the molecular weight if available; otherwise, raise an error\n",
        "if \"PropertyTable\" in response:\n",
        "    mol_weight = response[\"PropertyTable\"][\"Properties\"][0][\"MolecularWeight\"]\n",
        "else:\n",
        "    raise ValueError(f\"Could not find matches for PubChem CID: {cid}\")\n",
        "\n",
        "# Display the molecular weight\n",
        "print(f\"Molecular weight for {name} is:\\n{mol_weight}\")\n",
        "\n",
        "# NBVAL_CHECK_OUTPUT — used for output validation in some notebook testing environments\n"
      ]
    },
    {
      "cell_type": "markdown",
      "id": "debd6e8e-bc33-4193-8431-fdfab2d14dd6",
      "metadata": {
        "id": "debd6e8e-bc33-4193-8431-fdfab2d14dd6"
      },
      "source": [
        "# Show me the 2D structure of my compound"
      ]
    },
    {
      "cell_type": "code",
      "execution_count": 6,
      "id": "b1839497-9f09-4711-85a6-169975b5a131",
      "metadata": {
        "colab": {
          "base_uri": "https://localhost:8080/",
          "height": 346
        },
        "id": "b1839497-9f09-4711-85a6-169975b5a131",
        "outputId": "e03a788f-d948-4388-bb07-1f3f17ccd3fd"
      },
      "outputs": [
        {
          "output_type": "display_data",
          "data": {
            "text/plain": [
              "<IPython.core.display.Markdown object>"
            ],
            "text/markdown": "The 2D structure of Olaparib:"
          },
          "metadata": {}
        },
        {
          "output_type": "display_data",
          "data": {
            "image/png": "[encoded data removed]",
            "text/plain": [
              "<IPython.core.display.Image object>"
            ]
          },
          "metadata": {}
        }
      ],
      "source": [
        "# Retrieve the 2D PNG image of a compound from PubChem using its CID\n",
        "# Example: CID 3365 corresponds to olaparib\n",
        "url = \"https://pubchem.ncbi.nlm.nih.gov/rest/pug/compound/cid/3365/PNG\"\n",
        "\n",
        "# Send a GET request to the PubChem API\n",
        "r = requests.get(url)\n",
        "r.raise_for_status()  # Raise an error if the request failed\n",
        "\n",
        "# Display the image with a markdown caption\n",
        "display(Markdown(\"The 2D structure of Olaparib:\"))\n",
        "display(Image(r.content))\n"
      ]
    },
    {
      "cell_type": "markdown",
      "id": "6775f7a8-d7ec-4c9c-99ba-ad93b7e8bed2",
      "metadata": {
        "id": "6775f7a8-d7ec-4c9c-99ba-ad93b7e8bed2"
      },
      "source": [
        "# Search of Query compounds for similarity search\n",
        "The below script will perform the Tanimoto-based similarity search. The 2D PubChem fingerprints will be calculated first. For more information, abount fingerprints, it is highly advised to read (https://jcheminf.biomedcentral.com/articles/10.1186/s13321-016-0163-1)."
      ]
    },
    {
      "cell_type": "markdown",
      "id": "abf9e0da-17d1-4b41-af00-5d717a42d615",
      "metadata": {
        "id": "abf9e0da-17d1-4b41-af00-5d717a42d615"
      },
      "source": [
        "# Fetching of Query Compound"
      ]
    },
    {
      "cell_type": "code",
      "execution_count": 7,
      "id": "e79c458f-658c-4163-9d29-2a89c92c92aa",
      "metadata": {
        "colab": {
          "base_uri": "https://localhost:8080/",
          "height": 184
        },
        "id": "e79c458f-658c-4163-9d29-2a89c92c92aa",
        "outputId": "af7a5d69-0659-4b7d-fc5a-5ed3900fcb04"
      },
      "outputs": [
        {
          "output_type": "stream",
          "name": "stdout",
          "text": [
            "The structure of Fluconazole:\n"
          ]
        },
        {
          "output_type": "execute_result",
          "data": {
            "text/plain": [
              "<rdkit.Chem.rdchem.Mol at 0x7a1672c4bdf0>"
            ],
            "image/png": "[encoded data removed]"
          },
          "metadata": {},
          "execution_count": 7
        }
      ],
      "source": [
        "query = \"C1=CC(=C(C=C1F)F)C(CN2C=NC=N2)(CN3C=NC=N3)O\"\n",
        "print(\"The structure of Fluconazole:\")\n",
        "Chem.MolFromSmiles(query)"
      ]
    },
    {
      "cell_type": "markdown",
      "id": "f16a73d2-93b3-47c0-bfed-33f96c18ab1e",
      "metadata": {
        "id": "f16a73d2-93b3-47c0-bfed-33f96c18ab1e"
      },
      "source": [
        "# Creating a job key\n",
        "The following script will create a job key as per your requiremnts. You can adjust the similarity threshould, and n_recods you expect. In this example we are using threshould value of 75, and n_record value of 10."
      ]
    },
    {
      "cell_type": "code",
      "source": [
        "# RDKit imports for molecular structures and fingerprints\n",
        "from rdkit import Chem\n",
        "from rdkit.Chem import DataStructs\n",
        "from rdkit.Chem.Fingerprints import FingerprintMols\n",
        "\n",
        "def calcular_similaridade(smiles1, smiles2):\n",
        "    \"\"\"\n",
        "    Calculates the Tanimoto similarity between two compounds represented by SMILES strings.\n",
        "\n",
        "    Parameters:\n",
        "    - smiles1: str, SMILES of the first compound.\n",
        "    - smiles2: str, SMILES of the second compound.\n",
        "\n",
        "    Returns:\n",
        "    - similaridade: float, similarity score between 0 and 1.\n",
        "    - porcentagem: float, similarity expressed as a percentage (0% to 100%).\n",
        "    \"\"\"\n",
        "    # Convert SMILES strings to RDKit molecule objects\n",
        "    mol1 = Chem.MolFromSmiles(smiles1)\n",
        "    mol2 = Chem.MolFromSmiles(smiles2)\n",
        "\n",
        "    # Validate molecules\n",
        "    if mol1 is None or mol2 is None:\n",
        "        raise ValueError(\"One or both provided SMILES strings are invalid.\")\n",
        "\n",
        "    # Generate molecular fingerprints\n",
        "    fp1 = FingerprintMols.FingerprintMol(mol1)\n",
        "    fp2 = FingerprintMols.FingerprintMol(mol2)\n",
        "\n",
        "    # Compute Tanimoto similarity\n",
        "    similaridade = DataStructs.FingerprintSimilarity(fp1, fp2)\n",
        "    porcentagem = similaridade * 100\n",
        "\n",
        "    return similaridade, porcentagem\n",
        "\n",
        "# Example usage\n",
        "smiles_referencia = \"CC(C)N=C1C=C2C(=NC3=CC=CC=C3N2C4=CC=C(C=C4)Cl)C=C1NC5=CC=C(C=C5)Cl\"\n",
        "smiles_composto   = \"CN(C)CCCN=C1C=C2C(=NC3=CC=CC=C3N2C4=CC=C(C=C4)Cl)C=C1NC5=CC=C(C=C5)Cl\"\n",
        "\n",
        "# Calculate similarity\n",
        "similaridade, porcentagem = calcular_similaridade(smiles_referencia, smiles_composto)\n",
        "\n",
        "# Output results\n",
        "print(f\"Tanimoto similarity: {similaridade:.2f}\")\n",
        "print(f\"Similarity percentage: {porcentagem:.2f}%\")\n"
      ],
      "metadata": {
        "colab": {
          "base_uri": "https://localhost:8080/"
        },
        "id": "GjG9tmzXqflx",
        "outputId": "0efda433-8257-4993-99c4-5590258412d8"
      },
      "id": "GjG9tmzXqflx",
      "execution_count": 8,
      "outputs": [
        {
          "output_type": "stream",
          "name": "stdout",
          "text": [
            "Tanimoto similarity: 0.98\n",
            "Similarity percentage: 98.49%\n"
          ]
        }
      ]
    },
    {
      "cell_type": "code",
      "source": [
        "# Import required libraries\n",
        "import pandas as pd\n",
        "from rdkit import Chem\n",
        "from rdkit.Chem import DataStructs\n",
        "from rdkit.Chem.Fingerprints import FingerprintMols\n",
        "\n",
        "def calcular_similaridade(smiles1, smiles2):\n",
        "    \"\"\"\n",
        "    Computes the Tanimoto similarity between two SMILES strings.\n",
        "\n",
        "    Parameters:\n",
        "    - smiles1: str, SMILES representation of the first compound.\n",
        "    - smiles2: str, SMILES representation of the second compound.\n",
        "\n",
        "    Returns:\n",
        "    - float similarity score (0 to 1), or None if either SMILES is invalid.\n",
        "    \"\"\"\n",
        "    mol1 = Chem.MolFromSmiles(smiles1)\n",
        "    mol2 = Chem.MolFromSmiles(smiles2)\n",
        "\n",
        "    if mol1 is None or mol2 is None:\n",
        "        return None  # Return None for invalid SMILES inputs\n",
        "\n",
        "    fp1 = FingerprintMols.FingerprintMol(mol1)\n",
        "    fp2 = FingerprintMols.FingerprintMol(mol2)\n",
        "\n",
        "    sim = DataStructs.FingerprintSimilarity(fp1, fp2)\n",
        "    return sim\n",
        "\n",
        "def calcular_similaridades_csv(arquivo_csv, smiles_referencia, nome_saida='similaridades.csv'):\n",
        "    \"\"\"\n",
        "    Calculates the Tanimoto similarity between a reference compound and a list of compounds in a CSV file.\n",
        "\n",
        "    Parameters:\n",
        "    - arquivo_csv: str, path to input CSV file containing a column named 'SMILES'.\n",
        "    - smiles_referencia: str, reference SMILES string to compare against.\n",
        "    - nome_saida: str, name of the output CSV file (default is 'similaridades.csv').\n",
        "\n",
        "    Outputs:\n",
        "    - A CSV file with similarity scores and similarity percentages.\n",
        "    \"\"\"\n",
        "    # Load CSV file\n",
        "    df = pd.read_csv(arquivo_csv)\n",
        "\n",
        "    # Ensure the CSV contains a 'SMILES' column\n",
        "    if 'SMILES_Canonical' not in df.columns:\n",
        "        raise ValueError(\"The CSV file must contain a column named 'SMILES'.\")\n",
        "\n",
        "    # Compute similarity for each row\n",
        "    similaridades = []\n",
        "    for s in df['SMILES_Canonical']:\n",
        "        sim = calcular_similaridade(smiles_referencia, s)\n",
        "        similaridades.append(sim)\n",
        "\n",
        "    # Add results to the dataframe\n",
        "    df['Similarity'] = similaridades\n",
        "    df['Similarity (%)'] = df['Similarity'].apply(lambda x: round(x * 100, 2) if x is not None else None)\n",
        "\n",
        "    # Save results to a new CSV file\n",
        "    df.to_csv(nome_saida, index=False)\n",
        "    print(f\"File saved as: {nome_saida}\")\n",
        "\n",
        "# Reference compound\n",
        "smiles_ref = \"C1=CC(=C(C=C1F)F)C(CN2C=NC=N2)(CN3C=NC=N3)O\"\n",
        "\n",
        "# Run similarity calculation\n",
        "calcular_similaridades_csv(\n",
        "    \"/content/validation_smiles_canonical_fluconazole.csv\",\n",
        "    smiles_ref,\n",
        "    nome_saida=\"resultado_similaridades_analogos_Fluconazol_ZINC22.csv\"\n",
        ")\n"
      ],
      "metadata": {
        "id": "V5BdprlUwpL0"
      },
      "id": "V5BdprlUwpL0",
      "execution_count": null,
      "outputs": []
    },
    {
      "cell_type": "markdown",
      "source": [
        "###References"
      ],
      "metadata": {
        "id": "dvPhR4lJt4EN"
      },
      "id": "dvPhR4lJt4EN"
    },
    {
      "cell_type": "markdown",
      "source": [
        "https://github.com/Ash100"
      ],
      "metadata": {
        "id": "FjLuFtawt9f3"
      },
      "id": "FjLuFtawt9f3"
    }
  ],
  "metadata": {
    "kernelspec": {
      "display_name": "Python 3 (ipykernel)",
      "language": "python",
      "name": "python3"
    },
    "language_info": {
      "codemirror_mode": {
        "name": "ipython",
        "version": 3
      },
      "file_extension": ".py",
      "mimetype": "text/x-python",
      "name": "python",
      "nbconvert_exporter": "python",
      "pygments_lexer": "ipython3",
      "version": "3.10.10"
    },
    "colab": {
      "provenance": []
    }
  },
  "nbformat": 4,
  "nbformat_minor": 5
}