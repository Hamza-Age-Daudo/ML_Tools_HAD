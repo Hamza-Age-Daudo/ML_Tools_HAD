{
  "nbformat": 4,
  "nbformat_minor": 0,
  "metadata": {
    "colab": {
      "provenance": []
    },
    "kernelspec": {
      "name": "python3",
      "display_name": "Python 3"
    },
    "language_info": {
      "name": "python"
    }
  },
  "cells": [
    {
      "cell_type": "markdown",
      "source": [
        "# 📄 Conversão de arquivo TSV para CSV\n",
        "\n",
        "Arquivos TSV (Tab Separated Values) usam tabulações para separar os campos, enquanto arquivos CSV usam vírgulas. Às vezes é necessário converter entre os formatos para facilitar a análise de dados.\n",
        "\n",
        "Aqui, mostramos a preparação inicial para a conversão usando a biblioteca `csv` do Python.\n"
      ],
      "metadata": {
        "id": "8sN9sCOsK24Z"
      }
    },
    {
      "cell_type": "code",
      "execution_count": null,
      "metadata": {
        "id": "OOKsI7msXqP8"
      },
      "outputs": [],
      "source": [
        "# ---------------------------------------------------\n",
        "# Importar módulo CSV para manipulação de arquivos\n",
        "# ---------------------------------------------------\n",
        "import csv\n",
        "\n"
      ]
    },
    {
      "cell_type": "code",
      "source": [
        "# ---------------------------------------------------\n",
        "# Abrir arquivo TSV para leitura com codificação UTF-8\n",
        "# ---------------------------------------------------\n",
        "with open('/content/Seu_arquivo_inicial.tsv', 'r', newline='', encoding='utf-8') as tsv_file:\n",
        "    tsv_reader = csv.reader(tsv_file, delimiter='\\t')  # Ler usando tabulação como delimitador\n",
        "\n",
        "    # ---------------------------------------------------\n",
        "    # Abrir arquivo CSV para escrita com codificação UTF-8\n",
        "    # ---------------------------------------------------\n",
        "    with open('Seu_arquivo_final.csv', 'w', newline='', encoding='utf-8') as csv_file:\n",
        "        csv_writer = csv.writer(csv_file)\n",
        "\n",
        "        # ---------------------------------------------------\n",
        "        # Iterar sobre cada linha do TSV e escrever no CSV\n",
        "        # ---------------------------------------------------\n",
        "        for row in tsv_reader:\n",
        "            csv_writer.writerow(row)"
      ],
      "metadata": {
        "id": "9G_Gj9UrXyzb"
      },
      "execution_count": null,
      "outputs": []
    }
  ]
}